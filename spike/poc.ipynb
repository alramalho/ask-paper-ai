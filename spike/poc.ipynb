{
 "cells": [
  {
   "cell_type": "markdown",
   "source": [
    "## Convert PDFS to JSON (done in `s2orc-doc2json`)"
   ],
   "metadata": {
    "collapsed": false
   }
  },
  {
   "cell_type": "markdown",
   "source": [
    "## Get URLs from json input"
   ],
   "metadata": {
    "collapsed": false
   }
  },
  {
   "cell_type": "code",
   "execution_count": 9,
   "outputs": [],
   "source": [
    "import requests\n",
    "\n",
    "def get_2xx(url):\n",
    "    try:\n",
    "        # First, define the URL that you want to check\n",
    "        url = url\n",
    "\n",
    "        # Next, use the `get()` method from the `requests` module to send a GET request to the URL\n",
    "\n",
    "        response = requests.get(url, timeout=20)\n",
    "\n",
    "        # Then, use the `status_code` attribute of the response object to check the status code of the response\n",
    "\n",
    "        return response.status_code // 100 == 2\n",
    "    except:\n",
    "        return False\n"
   ],
   "metadata": {
    "collapsed": false
   }
  },
  {
   "cell_type": "code",
   "execution_count": 10,
   "outputs": [],
   "source": [
    "import json\n",
    "import re\n",
    "\n",
    "def get_urls_from_json(filepath):\n",
    "    with open(filepath) as f:\n",
    "        data = json.loads(f.read())\n",
    "        json_string = json.dumps(data)\n",
    "        url_regex = r\"(https?:\\/\\/)([\\da-z\\.-]+)\\.([a-z\\.]{2,6})(\\/[\\w\\.]*)*\"\n",
    "        urls = re.findall(url_regex, json_string)\n",
    "        urls = list(map(lambda x: \"\".join([x[0], x[1], \".\", x[2], x[3]]), urls))\n",
    "    return urls"
   ],
   "metadata": {
    "collapsed": false
   }
  },
  {
   "cell_type": "code",
   "execution_count": 11,
   "outputs": [
    {
     "name": "stdout",
     "output_type": "stream",
     "text": [
      "For paper 1: 1 links found. 0 is/are returning 2XX\n",
      "For paper 2: 2 links found. 1 is/are returning 2XX\n",
      "For paper 3: 0 links found. 0 is/are returning 2XX\n",
      "For paper 4: 19 links found. 8 is/are returning 2XX\n",
      "For paper 5: 3 links found. 1 is/are returning 2XX\n",
      "For paper 6: 16 links found. 8 is/are returning 2XX\n",
      "For paper 7: 7 links found. 3 is/are returning 2XX\n",
      "For paper 8: 30 links found. 15 is/are returning 2XX\n",
      "For paper 9: 23 links found. 8 is/are returning 2XX\n",
      "For paper 10: 1 links found. 1 is/are returning 2XX\n",
      "Total success rate: 0.44\n"
     ]
    }
   ],
   "source": [
    "all = []\n",
    "success = []\n",
    "for i in range (1, 11):\n",
    "    urls = []\n",
    "    urls.extend(get_urls_from_json(f'papers_json/{i}.json'))\n",
    "    all.extend(urls)\n",
    "    resolving_urls = list(filter(get_2xx, urls))\n",
    "    success.extend(resolving_urls)\n",
    "    print(f\"For paper {i}: {len(urls)} links found. {len(resolving_urls)} is/are returning 2XX\")\n",
    "\n",
    "print(f\"Total success rate: {round(len(success) / len(all), ndigits=2)}\")"
   ],
   "metadata": {
    "collapsed": false
   }
  },
  {
   "cell_type": "code",
   "execution_count": 22,
   "outputs": [
    {
     "data": {
      "text/plain": "{1: ['https://m3dv.github.io/Frac'],\n 2: ['http://mscoco.org/', 'http://yann.lecun.com/'],\n 3: [],\n 4: ['https://labelerrors.com.',\n  'https://github.com/label',\n  'https://github.com/cleanlab.',\n  'https://labelerrors.com',\n  'https://labelerrors.com',\n  'https://github.com/label',\n  'https://github.com/label',\n  'http://authors.library.caltech.edu/7694.',\n  'http://proceedings.mlr.press/',\n  'http://proceedings.mlr.press/kremer18a.html.',\n  'http://www.cs.',\n  'https://en.wikipedia.org/List_of_datasets_',\n  'http://www.aclweb.org/',\n  'http://doi.acm.org/2766462.2767755',\n  'https://archive.ics.uci.edu/',\n  'http://papers.nips.cc/5073',\n  'http://papers.nips.cc/',\n  'http://papers.nips.cc/',\n  'http://arxiv.org/1810.05369.']}"
     },
     "execution_count": 22,
     "metadata": {},
     "output_type": "execute_result"
    }
   ],
   "source": [
    "all_urls = {}\n",
    "for i in range (1, 5):\n",
    "    all_urls[i]=get_urls_from_json(f'papers_json/{i}.json')\n",
    "\n",
    "all_urls"
   ],
   "metadata": {
    "collapsed": false
   }
  }
 ],
 "metadata": {
  "kernelspec": {
   "display_name": "Python 3",
   "language": "python",
   "name": "python3"
  },
  "language_info": {
   "codemirror_mode": {
    "name": "ipython",
    "version": 2
   },
   "file_extension": ".py",
   "mimetype": "text/x-python",
   "name": "python",
   "nbconvert_exporter": "python",
   "pygments_lexer": "ipython2",
   "version": "2.7.6"
  }
 },
 "nbformat": 4,
 "nbformat_minor": 0
}
